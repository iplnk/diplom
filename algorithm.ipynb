{
 "cells": [
  {
   "cell_type": "code",
   "execution_count": 1,
   "id": "59d2fc47",
   "metadata": {
    "ExecuteTime": {
     "end_time": "2023-05-24T12:47:19.511260Z",
     "start_time": "2023-05-24T12:47:18.976263Z"
    }
   },
   "outputs": [],
   "source": [
    "import pandas as pd\n",
    "import matplotlib.pyplot as plt\n",
    "import math\n",
    "import numpy as np\n",
    "import random"
   ]
  },
  {
   "cell_type": "code",
   "execution_count": 2,
   "id": "94fdc157",
   "metadata": {
    "ExecuteTime": {
     "end_time": "2023-05-24T12:47:19.526965Z",
     "start_time": "2023-05-24T12:47:19.513261Z"
    }
   },
   "outputs": [],
   "source": [
    "max_distance = 300000 # for example\n",
    "n_clusters = 20"
   ]
  },
  {
   "cell_type": "code",
   "execution_count": 3,
   "id": "35a35624",
   "metadata": {
    "ExecuteTime": {
     "end_time": "2023-05-24T12:47:19.542649Z",
     "start_time": "2023-05-24T12:47:19.527928Z"
    }
   },
   "outputs": [],
   "source": [
    "node_df = pd.read_csv('node.csv', index_col= 'Node')"
   ]
  },
  {
   "cell_type": "code",
   "execution_count": 4,
   "id": "c6d898a3",
   "metadata": {
    "ExecuteTime": {
     "end_time": "2023-05-24T12:47:19.558319Z",
     "start_time": "2023-05-24T12:47:19.543619Z"
    }
   },
   "outputs": [],
   "source": [
    "x = node_df['X']\n",
    "y = node_df['Y']"
   ]
  },
  {
   "cell_type": "code",
   "execution_count": 5,
   "id": "eb50e1a4",
   "metadata": {
    "ExecuteTime": {
     "end_time": "2023-05-24T12:47:19.573306Z",
     "start_time": "2023-05-24T12:47:19.560335Z"
    }
   },
   "outputs": [],
   "source": [
    "connection_df = pd.read_csv('connections.csv')"
   ]
  },
  {
   "cell_type": "code",
   "execution_count": 6,
   "id": "9391127a",
   "metadata": {
    "ExecuteTime": {
     "end_time": "2023-05-24T12:47:19.757909Z",
     "start_time": "2023-05-24T12:47:19.574332Z"
    }
   },
   "outputs": [
    {
     "data": {
      "image/png": "[encoded data removed]",
      "text/plain": [
       "<Figure size 432x288 with 1 Axes>"
      ]
     },
     "metadata": {
      "needs_background": "light"
     },
     "output_type": "display_data"
    }
   ],
   "source": [
    "plt.scatter(x, y)\n",
    "plt.xlabel('X Coordinates')\n",
    "plt.ylabel('Y Coordinates')\n",
    "plt.title('Node Visualization')\n",
    "for i, (x_coord, y_coord) in enumerate(zip(x, y)):\n",
    "    plt.text(x_coord, y_coord, str(i+1), fontsize=8, verticalalignment='bottom', horizontalalignment='right')\n",
    "for _, row in connection_df.iterrows():\n",
    "    start_node = row['A']\n",
    "    end_node = row['B']\n",
    "    plt.plot([x[start_node], x[end_node]], [y[start_node], y[end_node]], 'k-')\n",
    "plt.show()"
   ]
  },
  {
   "cell_type": "code",
   "execution_count": 7,
   "id": "19c54e19",
   "metadata": {
    "ExecuteTime": {
     "end_time": "2023-05-24T12:47:19.773414Z",
     "start_time": "2023-05-24T12:47:19.758429Z"
    }
   },
   "outputs": [],
   "source": [
    "data = pd.read_csv('capacity.tntp',  delimiter='\\t', skiprows=5)\n",
    "headers = data.iloc[0]\n",
    "data = data.iloc[0+1:].reset_index(drop=True)\n",
    "data.columns = headers\n",
    "data = data.drop('~', axis=1)"
   ]
  },
  {
   "cell_type": "code",
   "execution_count": 8,
   "id": "74fc7096",
   "metadata": {
    "ExecuteTime": {
     "end_time": "2023-05-24T12:47:19.932449Z",
     "start_time": "2023-05-24T12:47:19.774258Z"
    }
   },
   "outputs": [],
   "source": [
    "import pandas as pd\n",
    "import networkx as nx\n",
    "import concurrent.futures\n",
    "\n",
    "# Read the DataFrame with connections and capacities\n",
    "df = data\n",
    "\n",
    "# Create a directed graph\n",
    "G = nx.DiGraph()\n",
    "\n",
    "# Convert capacity to integers\n",
    "df['capacity'] = df['capacity'].astype(float)\n",
    "\n",
    "# Add nodes to the graph\n",
    "G.add_nodes_from(df['init_node'])\n",
    "G.add_nodes_from(df['term_node'])\n",
    "\n",
    "# Add edges to the graph with capacities as edge attributes\n",
    "for _, row in df.iterrows():\n",
    "    init_node = row['init_node']\n",
    "    term_node = row['term_node']\n",
    "    capacity = row['capacity']\n",
    "    G.add_edge(init_node, term_node, capacity=capacity)\n",
    "\n",
    "# Function to find the optimal route for a pair of nodes\n",
    "def find_optimal_route(start_node, end_node):\n",
    "    return nx.shortest_path(G, start_node, end_node, weight='capacity')\n",
    "\n",
    "# Find all possible routes and select the optimal route for each pair of nodes\n",
    "routes = []\n",
    "with concurrent.futures.ThreadPoolExecutor() as executor:\n",
    "    future_to_pair = {executor.submit(find_optimal_route, start_node, end_node): (start_node, end_node) for start_node in G.nodes for end_node in G.nodes if start_node != end_node}\n",
    "    for future in concurrent.futures.as_completed(future_to_pair):\n",
    "        pair = future_to_pair[future]\n",
    "        try:\n",
    "            optimal_route = future.result()\n",
    "            route_capacity = min(G[u][v]['capacity'] for u, v in zip(optimal_route, optimal_route[1:]))\n",
    "            routes.append({'start_node': pair[0], 'end_node': pair[1], 'route': optimal_route, 'capacity': route_capacity})\n",
    "        except Exception as e:\n",
    "            print(f\"An error occurred for pair {pair}: {e}\")\n",
    "\n",
    "# Convert routes to a DataFrame\n",
    "routes_df = pd.DataFrame(routes)\n",
    "\n",
    "# Print the routes DataFrame\n",
    "# print(routes_df)\n"
   ]
  },
  {
   "cell_type": "code",
   "execution_count": 9,
   "id": "d16356c8",
   "metadata": {
    "ExecuteTime": {
     "end_time": "2023-05-24T12:47:19.948173Z",
     "start_time": "2023-05-24T12:47:19.932726Z"
    }
   },
   "outputs": [],
   "source": [
    "routes_df['route_pairs'] = routes_df['route'].apply(lambda route: [f\"{node}-{next_node}\" for node, next_node in zip(route, route[1:])])"
   ]
  },
  {
   "cell_type": "code",
   "execution_count": 10,
   "id": "2257a1b1",
   "metadata": {
    "ExecuteTime": {
     "end_time": "2023-05-24T12:47:19.963996Z",
     "start_time": "2023-05-24T12:47:19.949171Z"
    }
   },
   "outputs": [],
   "source": [
    "def find_distance(pair):\n",
    "    node1, node2 = pair.split('-')\n",
    "    x1 = node_df.iloc[int(node1) - 1]['X']\n",
    "    x2 = node_df.iloc[int(node2) - 1]['X']\n",
    "    y1 = node_df.iloc[int(node1) - 1]['Y']\n",
    "    y2 = node_df.iloc[int(node2) - 1]['Y']\n",
    "    return ((x1-x2)**2 + (y1-y2)**2)**0.5"
   ]
  },
  {
   "cell_type": "code",
   "execution_count": 11,
   "id": "449591a1",
   "metadata": {
    "ExecuteTime": {
     "end_time": "2023-05-24T12:47:19.994596Z",
     "start_time": "2023-05-24T12:47:19.964994Z"
    }
   },
   "outputs": [],
   "source": [
    "distances = dict()\n",
    "for i in range(len(data)):\n",
    "    distance = f\"{data.iloc[i]['init_node']}-{data.iloc[i]['term_node']}\"\n",
    "    distances[distance] = find_distance(distance)"
   ]
  },
  {
   "cell_type": "code",
   "execution_count": 12,
   "id": "3db4f278",
   "metadata": {
    "ExecuteTime": {
     "end_time": "2023-05-24T12:47:20.009805Z",
     "start_time": "2023-05-24T12:47:19.995593Z"
    }
   },
   "outputs": [],
   "source": [
    "\n",
    "# Function to calculate the summary distance for a route pair\n",
    "def calculate_summary_distance(route_pairs):\n",
    "    return sum(distances.get(pair, 0) for pair in route_pairs)\n",
    "\n",
    "# Calculate the summary distances for each route_pairs entity\n",
    "routes_df['summary_distance'] = routes_df['route_pairs'].apply(calculate_summary_distance)\n",
    "\n",
    "# Print the updated routes DataFrame with summary distances\n",
    "# print(routes_df)\n"
   ]
  },
  {
   "cell_type": "code",
   "execution_count": 13,
   "id": "5236da80",
   "metadata": {
    "ExecuteTime": {
     "end_time": "2023-05-24T12:47:20.618949Z",
     "start_time": "2023-05-24T12:47:20.010803Z"
    }
   },
   "outputs": [
    {
     "name": "stdout",
     "output_type": "stream",
     "text": [
      "[X    320000\n",
      "Y    510000\n",
      "Name: 2, dtype: int64, X    420000\n",
      "Y    320000\n",
      "Name: 18, dtype: int64, X     50000\n",
      "Y    440000\n",
      "Name: 3, dtype: int64, X     50000\n",
      "Y    510000\n",
      "Name: 1, dtype: int64, X    220000\n",
      "Y    380000\n",
      "Name: 9, dtype: int64, X     50000\n",
      "Y    510000\n",
      "Name: 1, dtype: int64, X    420000\n",
      "Y    380000\n",
      "Name: 7, dtype: int64, X    320000\n",
      "Y    510000\n",
      "Name: 2, dtype: int64, X    220000\n",
      "Y    190000\n",
      "Name: 15, dtype: int64, X    130000\n",
      "Y    440000\n",
      "Name: 4, dtype: int64, X    220000\n",
      "Y    190000\n",
      "Name: 15, dtype: int64, X    220000\n",
      "Y    190000\n",
      "Name: 15, dtype: int64, X    320000\n",
      "Y    510000\n",
      "Name: 2, dtype: int64, X    220000\n",
      "Y    190000\n",
      "Name: 15, dtype: int64, X    320000\n",
      "Y     50000\n",
      "Name: 20, dtype: int64, X    220000\n",
      "Y    190000\n",
      "Name: 15, dtype: int64, X    50000\n",
      "Y    50000\n",
      "Name: 13, dtype: int64, X    320000\n",
      "Y     50000\n",
      "Name: 20, dtype: int64, X    320000\n",
      "Y    320000\n",
      "Name: 16, dtype: int64, X     50000\n",
      "Y    440000\n",
      "Name: 3, dtype: int64]\n"
     ]
    },
    {
     "name": "stderr",
     "output_type": "stream",
     "text": [
      "C:\\Users\\costy\\AppData\\Local\\Temp\\ipykernel_2388\\3205371427.py:24: SettingWithCopyWarning: \n",
      "A value is trying to be set on a copy of a slice from a DataFrame.\n",
      "Try using .loc[row_indexer,col_indexer] = value instead\n",
      "\n",
      "See the caveats in the documentation: https://pandas.pydata.org/pandas-docs/stable/user_guide/indexing.html#returning-a-view-versus-a-copy\n",
      "  viable_routes_df['cluster'] = kmeans.labels_\n"
     ]
    }
   ],
   "source": [
    "import pandas as pd\n",
    "import numpy as np\n",
    "from sklearn.cluster import KMeans\n",
    "\n",
    "# Set the max_distance a car can drive without charging\n",
    "# max_distance = 300000 # for example\n",
    "# n_clusters = 20\n",
    "\n",
    "# Filter routes that a car can drive without charging\n",
    "viable_routes_df = routes_df[routes_df['summary_distance'] <= max_distance]\n",
    "\n",
    "if viable_routes_df.empty:\n",
    "    raise ValueError(\"No viable routes! Increase max_distance.\")\n",
    "\n",
    "# Now, we'll perform clustering on the 'capacity' of the routes\n",
    "# Convert 'capacity' into a 2D numpy array\n",
    "X = np.array(viable_routes_df['capacity']).reshape(-1, 1)\n",
    "\n",
    "# Number of clusters corresponds to the number of desired charging stations\n",
    "\n",
    "kmeans = KMeans(n_clusters=n_clusters, random_state=0).fit(X)\n",
    "\n",
    "# Assign each route to a cluster\n",
    "viable_routes_df['cluster'] = kmeans.labels_\n",
    "\n",
    "charging_stations = []\n",
    "\n",
    "# For each cluster, find the route with the maximum capacity\n",
    "for i in range(n_clusters):\n",
    "    cluster_routes = viable_routes_df[viable_routes_df['cluster'] == i]\n",
    "    \n",
    "    if cluster_routes.empty:\n",
    "        continue  # Skip to the next iteration if there are no routes in this cluster\n",
    "    \n",
    "    # Choose the first route with the maximum capacity\n",
    "    best_route = cluster_routes[cluster_routes['capacity'] == cluster_routes['capacity'].max()].iloc[0]\n",
    "    \n",
    "    # Choose the node with the highest capacity within this route\n",
    "    nodes_in_route = best_route['route']\n",
    "    node_capacities = [(node, routes_df[routes_df['start_node'] == node]['capacity'].max()) for node in nodes_in_route]\n",
    "    best_node, _ = max(node_capacities, key=lambda x: x[1])\n",
    "    \n",
    "    # Add the best_node's coordinates to the list of charging stations\n",
    "    charging_stations.append(node_df.loc[int(best_node)])\n",
    "\n",
    "# Now charging_stations contains the coordinates of the charging stations.\n",
    "print(charging_stations)\n"
   ]
  },
  {
   "cell_type": "code",
   "execution_count": 14,
   "id": "ee98fcb0",
   "metadata": {
    "ExecuteTime": {
     "end_time": "2023-05-24T12:47:20.633909Z",
     "start_time": "2023-05-24T12:47:20.622939Z"
    }
   },
   "outputs": [],
   "source": [
    "capacities = dict()\n",
    "for i in range(len(data)):\n",
    "    if data['term_node'][i] not in capacities.keys():\n",
    "        capacities[data['term_node'][i]] = data['capacity'][i]\n",
    "    else:\n",
    "        capacities[data['term_node'][i]] += data['capacity'][i]    "
   ]
  },
  {
   "cell_type": "code",
   "execution_count": 15,
   "id": "f79d12ab",
   "metadata": {
    "ExecuteTime": {
     "end_time": "2023-05-24T12:47:20.649866Z",
     "start_time": "2023-05-24T12:47:20.634907Z"
    }
   },
   "outputs": [
    {
     "name": "stdout",
     "output_type": "stream",
     "text": [
      "Added 9 new station(s) to charging_stations list.\n"
     ]
    }
   ],
   "source": [
    "# Convert charging_stations to a dictionary for uniqueness\n",
    "charging_stations_dict = {station.name: station for station in charging_stations}\n",
    "\n",
    "# Store the original number of charging stations\n",
    "original_num_stations = len(charging_stations_dict)\n",
    "\n",
    "# Sort the capacities dict based on values (in descending order)\n",
    "sorted_capacities = dict(sorted(capacities.items(), key=lambda item: item[1], reverse=True))\n",
    "\n",
    "# Iterate over the sorted capacities dict\n",
    "for node, capacity in sorted_capacities.items():\n",
    "    # If the node is not already in the charging_stations dictionary\n",
    "    if int(node) not in charging_stations_dict:\n",
    "        # Get the node from node_df and add it to the charging_stations dictionary\n",
    "        charging_stations_dict[int(node)] = node_df.loc[int(node)]\n",
    "\n",
    "    # Check if the number of charging stations is equal to n_clusters\n",
    "    if len(charging_stations_dict) == n_clusters:\n",
    "        break\n",
    "\n",
    "# Convert the dictionary back to a list\n",
    "charging_stations = list(charging_stations_dict.values())\n",
    "\n",
    "# Calculate the number of new stations added\n",
    "num_new_stations = len(charging_stations) - original_num_stations\n",
    "\n",
    "if num_new_stations == 0 and len(charging_stations) < n_clusters:\n",
    "    print(\"Not enough different stations to reach the desired number of clusters.\")\n",
    "else:\n",
    "    print(f\"Added {num_new_stations} new station(s) to charging_stations list.\")\n"
   ]
  },
  {
   "cell_type": "code",
   "execution_count": 16,
   "id": "f3567329",
   "metadata": {
    "ExecuteTime": {
     "end_time": "2023-05-24T12:47:20.837269Z",
     "start_time": "2023-05-24T12:47:20.651861Z"
    }
   },
   "outputs": [
    {
     "data": {
      "image/png": "[encoded data removed]",
      "text/plain": [
       "<Figure size 432x288 with 1 Axes>"
      ]
     },
     "metadata": {
      "needs_background": "light"
     },
     "output_type": "display_data"
    }
   ],
   "source": [
    "import matplotlib.pyplot as plt\n",
    "\n",
    "plt.scatter(x, y)\n",
    "plt.xlabel('X Coordinates')\n",
    "plt.ylabel('Y Coordinates')\n",
    "plt.title('Node Visualization')\n",
    "for i, (x_coord, y_coord) in enumerate(zip(x, y)):\n",
    "    plt.text(x_coord, y_coord, str(i+1), fontsize=8, verticalalignment='bottom', horizontalalignment='right')\n",
    "\n",
    "# Extracting X and Y coordinates of charging stations\n",
    "x_charging = [station['X'] for station in charging_stations]\n",
    "y_charging = [station['Y'] for station in charging_stations]\n",
    "\n",
    "# Plotting charging stations\n",
    "plt.scatter(x_charging, y_charging, color='red')\n",
    "\n",
    "for _, row in connection_df.iterrows():\n",
    "    start_node = row['A']\n",
    "    end_node = row['B']\n",
    "    plt.plot([x[start_node], x[end_node]], [y[start_node], y[end_node]], 'k-')\n",
    "\n",
    "plt.show()\n"
   ]
  },
  {
   "cell_type": "code",
   "execution_count": 17,
   "id": "3e3ce75a",
   "metadata": {
    "ExecuteTime": {
     "end_time": "2023-05-24T12:47:20.852436Z",
     "start_time": "2023-05-24T12:47:20.837963Z"
    },
    "code_folding": [
     0
    ]
   },
   "outputs": [
    {
     "name": "stdout",
     "output_type": "stream",
     "text": [
      "{1, 2, 3, 4, 5, 7, 8, 9, 10, 11, 12, 13, 15, 16, 18, 19, 20, 21, 22, 24}\n"
     ]
    }
   ],
   "source": [
    "def get_node_numbers(charging_stations, node_df):\n",
    "    node_numbers = []\n",
    "    for station in charging_stations:\n",
    "        match = node_df[(node_df['X'] == station['X']) & (node_df['Y'] == station['Y'])]\n",
    "        node_numbers.append(match.index[0])\n",
    "    return node_numbers\n",
    "\n",
    "# Call the function with your data\n",
    "node_numbers = get_node_numbers(charging_stations, node_df)\n",
    "\n",
    "# Print the node numbers of the charging stations\n",
    "print(set(node_numbers))\n"
   ]
  },
  {
   "cell_type": "code",
   "execution_count": 18,
   "id": "f25ec87b",
   "metadata": {
    "ExecuteTime": {
     "end_time": "2023-05-24T12:47:20.883716Z",
     "start_time": "2023-05-24T12:47:20.870046Z"
    },
    "code_folding": [
     0
    ]
   },
   "outputs": [],
   "source": [
    "def find_distances(route_pairs, node_numbers, distances_dict, max_distance):\n",
    "    route_nodes = []\n",
    "    charging_stations = []\n",
    "    distances = []\n",
    "\n",
    "    # Extract nodes from route pairs and add to route_nodes\n",
    "    for route_pair in route_pairs:\n",
    "        node_a, node_b = map(int, route_pair.split('-'))\n",
    "        if node_a not in route_nodes:\n",
    "            route_nodes.append(node_a)\n",
    "        if node_b not in route_nodes:\n",
    "            route_nodes.append(node_b)\n",
    "\n",
    "    # Determine which nodes are charging stations\n",
    "    for node in route_nodes:\n",
    "        if node in node_numbers:\n",
    "            charging_stations.append(node)\n",
    "\n",
    "    # Special case when starting point is a charging station\n",
    "    if route_nodes[0] in charging_stations:\n",
    "        charging_stations.remove(route_nodes[0])\n",
    "\n",
    "    if len(charging_stations) == 0:\n",
    "        # No charging station, return the total route distance\n",
    "        total_distance = 0\n",
    "        for i in range(len(route_nodes)-1):\n",
    "            total_distance += distances_dict[f'{route_nodes[i]}-{route_nodes[i+1]}']\n",
    "        distances.append(total_distance)\n",
    "    else:\n",
    "        # There are charging stations, calculate distances between them\n",
    "        prev_station = route_nodes[0]\n",
    "        for station in charging_stations:\n",
    "            distance = 0\n",
    "            i = route_nodes.index(prev_station)\n",
    "            while i < len(route_nodes) and route_nodes[i] != station:\n",
    "                distance += distances_dict[f'{route_nodes[i]}-{route_nodes[i+1]}']\n",
    "                i += 1\n",
    "            distances.append(distance)\n",
    "            prev_station = station\n",
    "\n",
    "        # Distance from last charging station to end of route\n",
    "        distance = 0\n",
    "        i = route_nodes.index(prev_station)\n",
    "        while i < len(route_nodes) - 1:\n",
    "            distance += distances_dict[f'{route_nodes[i]}-{route_nodes[i+1]}']\n",
    "            i += 1\n",
    "        distances.append(distance)\n",
    "\n",
    "    return distances\n"
   ]
  },
  {
   "cell_type": "code",
   "execution_count": 19,
   "id": "4c610ed3",
   "metadata": {
    "ExecuteTime": {
     "end_time": "2023-05-24T12:47:20.899610Z",
     "start_time": "2023-05-24T12:47:20.884712Z"
    },
    "code_folding": [
     1
    ]
   },
   "outputs": [],
   "source": [
    "# Apply the function to the 'route_pairs' column\n",
    "routes_df['distances_between_stations'] = routes_df['route_pairs'].apply(\n",
    "    lambda route_pairs: find_distances(\n",
    "        route_pairs, \n",
    "        node_numbers, \n",
    "        distances, \n",
    "        max_distance\n",
    "    )\n",
    ")\n"
   ]
  },
  {
   "cell_type": "code",
   "execution_count": 20,
   "id": "929a80f2",
   "metadata": {
    "ExecuteTime": {
     "end_time": "2023-05-24T12:47:20.915662Z",
     "start_time": "2023-05-24T12:47:20.900600Z"
    },
    "code_folding": [
     0,
     25
    ]
   },
   "outputs": [],
   "source": [
    "def count_charging_stations(route_pairs, node_numbers):\n",
    "    route_nodes = []\n",
    "    charging_stations = []\n",
    "\n",
    "    # Extract nodes from route pairs and add to route_nodes\n",
    "    for route_pair in route_pairs:\n",
    "        node_a, node_b = map(int, route_pair.split('-'))\n",
    "        if node_a not in route_nodes:\n",
    "            route_nodes.append(node_a)\n",
    "        if node_b not in route_nodes:\n",
    "            route_nodes.append(node_b)\n",
    "\n",
    "    # Determine which nodes are charging stations\n",
    "    for node in route_nodes:\n",
    "        if node in node_numbers:\n",
    "            charging_stations.append(node)\n",
    "\n",
    "    # Special case when starting point is a charging station\n",
    "    if route_nodes[0] in charging_stations:\n",
    "        charging_stations.remove(route_nodes[0])\n",
    "\n",
    "    return len(charging_stations)\n",
    "\n",
    "\n",
    "# Apply the function to the 'route_pairs' column\n",
    "routes_df['station_count'] = routes_df['route_pairs'].apply(\n",
    "    lambda route_pairs: count_charging_stations(\n",
    "        route_pairs, \n",
    "        node_numbers\n",
    "    )\n",
    ")\n"
   ]
  },
  {
   "cell_type": "code",
   "execution_count": 21,
   "id": "7e9b7e71",
   "metadata": {
    "ExecuteTime": {
     "end_time": "2023-05-24T12:47:20.930742Z",
     "start_time": "2023-05-24T12:47:20.916655Z"
    },
    "code_folding": [
     0,
     11
    ]
   },
   "outputs": [],
   "source": [
    "def check_max_distance(distances, max_distance):\n",
    "    # Check if any distance in distances is greater than max_distance\n",
    "    for distance in distances:\n",
    "        if distance > max_distance:\n",
    "            return False\n",
    "\n",
    "    # If none of the distances are greater than max_distance\n",
    "    return True\n",
    "\n",
    "\n",
    "# Apply the function to the 'distances_between_stations' column\n",
    "routes_df['within_max_distance'] = routes_df['distances_between_stations'].apply(\n",
    "    lambda distances: check_max_distance(distances, max_distance)\n",
    ")\n"
   ]
  },
  {
   "cell_type": "code",
   "execution_count": 22,
   "id": "8b1d77d5",
   "metadata": {
    "ExecuteTime": {
     "end_time": "2023-05-24T12:47:20.946654Z",
     "start_time": "2023-05-24T12:47:20.931697Z"
    }
   },
   "outputs": [
    {
     "data": {
      "text/plain": [
       "1.0"
      ]
     },
     "execution_count": 22,
     "metadata": {},
     "output_type": "execute_result"
    }
   ],
   "source": [
    "sum(routes_df['within_max_distance'])/len(routes_df)"
   ]
  },
  {
   "cell_type": "code",
   "execution_count": null,
   "id": "d70eb551",
   "metadata": {},
   "outputs": [],
   "source": [
    "routes_df[(routes_df['within_max_distance'] == True) & (routes_df['summary_distance'] > 299999)]"
   ]
  },
  {
   "cell_type": "code",
   "execution_count": 24,
   "id": "b1763e34",
   "metadata": {},
   "outputs": [
    {
     "data": {
      "text/plain": [
       "1.0"
      ]
     },
     "execution_count": 24,
     "metadata": {},
     "output_type": "execute_result"
    }
   ],
   "source": [
    "sum(routes_df['within_max_distance'])/len(routes_df)"
   ]
  },
  {
   "cell_type": "code",
   "execution_count": 25,
   "id": "29832f62",
   "metadata": {},
   "outputs": [
    {
     "data": {
      "text/html": [
       "<div>\n",
       "<style scoped>\n",
       "    .dataframe tbody tr th:only-of-type {\n",
       "        vertical-align: middle;\n",
       "    }\n",
       "\n",
       "    .dataframe tbody tr th {\n",
       "        vertical-align: top;\n",
       "    }\n",
       "\n",
       "    .dataframe thead th {\n",
       "        text-align: right;\n",
       "    }\n",
       "</style>\n",
       "<table border=\"1\" class=\"dataframe\">\n",
       "  <thead>\n",
       "    <tr style=\"text-align: right;\">\n",
       "      <th></th>\n",
       "      <th>start_node</th>\n",
       "      <th>end_node</th>\n",
       "      <th>route</th>\n",
       "      <th>capacity</th>\n",
       "      <th>route_pairs</th>\n",
       "      <th>summary_distance</th>\n",
       "      <th>distances_between_stations</th>\n",
       "      <th>station_count</th>\n",
       "      <th>within_max_distance</th>\n",
       "    </tr>\n",
       "  </thead>\n",
       "  <tbody>\n",
       "    <tr>\n",
       "      <th>0</th>\n",
       "      <td>1</td>\n",
       "      <td>23</td>\n",
       "      <td>[1, 3, 4, 11, 14, 23]</td>\n",
       "      <td>4876.508287</td>\n",
       "      <td>[1-3, 3-4, 4-11, 11-14, 14-23]</td>\n",
       "      <td>460000.000000</td>\n",
       "      <td>[70000.0, 80000.0, 120000.0, 190000.0]</td>\n",
       "      <td>3</td>\n",
       "      <td>True</td>\n",
       "    </tr>\n",
       "    <tr>\n",
       "      <th>1</th>\n",
       "      <td>1</td>\n",
       "      <td>22</td>\n",
       "      <td>[1, 3, 4, 11, 14, 23, 22]</td>\n",
       "      <td>4876.508287</td>\n",
       "      <td>[1-3, 3-4, 4-11, 11-14, 14-23, 23-22]</td>\n",
       "      <td>550000.000000</td>\n",
       "      <td>[70000.0, 80000.0, 120000.0, 280000.0, 0]</td>\n",
       "      <td>4</td>\n",
       "      <td>True</td>\n",
       "    </tr>\n",
       "    <tr>\n",
       "      <th>2</th>\n",
       "      <td>2</td>\n",
       "      <td>1</td>\n",
       "      <td>[2, 1]</td>\n",
       "      <td>25900.200640</td>\n",
       "      <td>[2-1]</td>\n",
       "      <td>270000.000000</td>\n",
       "      <td>[270000.0, 0]</td>\n",
       "      <td>1</td>\n",
       "      <td>True</td>\n",
       "    </tr>\n",
       "    <tr>\n",
       "      <th>3</th>\n",
       "      <td>1</td>\n",
       "      <td>19</td>\n",
       "      <td>[1, 2, 6, 8, 16, 17, 19]</td>\n",
       "      <td>4823.950831</td>\n",
       "      <td>[1-2, 2-6, 6-8, 8-16, 16-17, 17-19]</td>\n",
       "      <td>590000.000000</td>\n",
       "      <td>[270000.0, 130000.0, 60000.0, 130000.0, 0]</td>\n",
       "      <td>4</td>\n",
       "      <td>True</td>\n",
       "    </tr>\n",
       "    <tr>\n",
       "      <th>4</th>\n",
       "      <td>3</td>\n",
       "      <td>22</td>\n",
       "      <td>[3, 4, 11, 14, 23, 22]</td>\n",
       "      <td>4876.508287</td>\n",
       "      <td>[3-4, 4-11, 11-14, 14-23, 23-22]</td>\n",
       "      <td>480000.000000</td>\n",
       "      <td>[80000.0, 120000.0, 280000.0, 0]</td>\n",
       "      <td>3</td>\n",
       "      <td>True</td>\n",
       "    </tr>\n",
       "    <tr>\n",
       "      <th>...</th>\n",
       "      <td>...</td>\n",
       "      <td>...</td>\n",
       "      <td>...</td>\n",
       "      <td>...</td>\n",
       "      <td>...</td>\n",
       "      <td>...</td>\n",
       "      <td>...</td>\n",
       "      <td>...</td>\n",
       "      <td>...</td>\n",
       "    </tr>\n",
       "    <tr>\n",
       "      <th>547</th>\n",
       "      <td>24</td>\n",
       "      <td>21</td>\n",
       "      <td>[24, 21]</td>\n",
       "      <td>4885.357564</td>\n",
       "      <td>[24-21]</td>\n",
       "      <td>90000.000000</td>\n",
       "      <td>[90000.0, 0]</td>\n",
       "      <td>1</td>\n",
       "      <td>True</td>\n",
       "    </tr>\n",
       "    <tr>\n",
       "      <th>548</th>\n",
       "      <td>24</td>\n",
       "      <td>22</td>\n",
       "      <td>[24, 23, 22]</td>\n",
       "      <td>5000.000000</td>\n",
       "      <td>[24-23, 23-22]</td>\n",
       "      <td>170000.000000</td>\n",
       "      <td>[170000.0, 0]</td>\n",
       "      <td>1</td>\n",
       "      <td>True</td>\n",
       "    </tr>\n",
       "    <tr>\n",
       "      <th>549</th>\n",
       "      <td>24</td>\n",
       "      <td>23</td>\n",
       "      <td>[24, 23]</td>\n",
       "      <td>5078.508436</td>\n",
       "      <td>[24-23]</td>\n",
       "      <td>80000.000000</td>\n",
       "      <td>[80000.0]</td>\n",
       "      <td>0</td>\n",
       "      <td>True</td>\n",
       "    </tr>\n",
       "    <tr>\n",
       "      <th>550</th>\n",
       "      <td>17</td>\n",
       "      <td>15</td>\n",
       "      <td>[17, 10, 15]</td>\n",
       "      <td>4993.510694</td>\n",
       "      <td>[17-10, 10-15]</td>\n",
       "      <td>246619.037897</td>\n",
       "      <td>[116619.03789690601, 130000.0, 0]</td>\n",
       "      <td>2</td>\n",
       "      <td>True</td>\n",
       "    </tr>\n",
       "    <tr>\n",
       "      <th>551</th>\n",
       "      <td>5</td>\n",
       "      <td>24</td>\n",
       "      <td>[5, 4, 11, 14, 23, 24]</td>\n",
       "      <td>4876.508287</td>\n",
       "      <td>[5-4, 4-11, 11-14, 14-23, 23-24]</td>\n",
       "      <td>480000.000000</td>\n",
       "      <td>[90000.0, 120000.0, 270000.0, 0]</td>\n",
       "      <td>3</td>\n",
       "      <td>True</td>\n",
       "    </tr>\n",
       "  </tbody>\n",
       "</table>\n",
       "<p>552 rows × 9 columns</p>\n",
       "</div>"
      ],
      "text/plain": [
       "    start_node end_node                      route      capacity  \\\n",
       "0            1       23      [1, 3, 4, 11, 14, 23]   4876.508287   \n",
       "1            1       22  [1, 3, 4, 11, 14, 23, 22]   4876.508287   \n",
       "2            2        1                     [2, 1]  25900.200640   \n",
       "3            1       19   [1, 2, 6, 8, 16, 17, 19]   4823.950831   \n",
       "4            3       22     [3, 4, 11, 14, 23, 22]   4876.508287   \n",
       "..         ...      ...                        ...           ...   \n",
       "547         24       21                   [24, 21]   4885.357564   \n",
       "548         24       22               [24, 23, 22]   5000.000000   \n",
       "549         24       23                   [24, 23]   5078.508436   \n",
       "550         17       15               [17, 10, 15]   4993.510694   \n",
       "551          5       24     [5, 4, 11, 14, 23, 24]   4876.508287   \n",
       "\n",
       "                               route_pairs  summary_distance  \\\n",
       "0           [1-3, 3-4, 4-11, 11-14, 14-23]     460000.000000   \n",
       "1    [1-3, 3-4, 4-11, 11-14, 14-23, 23-22]     550000.000000   \n",
       "2                                    [2-1]     270000.000000   \n",
       "3      [1-2, 2-6, 6-8, 8-16, 16-17, 17-19]     590000.000000   \n",
       "4         [3-4, 4-11, 11-14, 14-23, 23-22]     480000.000000   \n",
       "..                                     ...               ...   \n",
       "547                                [24-21]      90000.000000   \n",
       "548                         [24-23, 23-22]     170000.000000   \n",
       "549                                [24-23]      80000.000000   \n",
       "550                         [17-10, 10-15]     246619.037897   \n",
       "551       [5-4, 4-11, 11-14, 14-23, 23-24]     480000.000000   \n",
       "\n",
       "                     distances_between_stations  station_count  \\\n",
       "0        [70000.0, 80000.0, 120000.0, 190000.0]              3   \n",
       "1     [70000.0, 80000.0, 120000.0, 280000.0, 0]              4   \n",
       "2                                 [270000.0, 0]              1   \n",
       "3    [270000.0, 130000.0, 60000.0, 130000.0, 0]              4   \n",
       "4              [80000.0, 120000.0, 280000.0, 0]              3   \n",
       "..                                          ...            ...   \n",
       "547                                [90000.0, 0]              1   \n",
       "548                               [170000.0, 0]              1   \n",
       "549                                   [80000.0]              0   \n",
       "550           [116619.03789690601, 130000.0, 0]              2   \n",
       "551            [90000.0, 120000.0, 270000.0, 0]              3   \n",
       "\n",
       "     within_max_distance  \n",
       "0                   True  \n",
       "1                   True  \n",
       "2                   True  \n",
       "3                   True  \n",
       "4                   True  \n",
       "..                   ...  \n",
       "547                 True  \n",
       "548                 True  \n",
       "549                 True  \n",
       "550                 True  \n",
       "551                 True  \n",
       "\n",
       "[552 rows x 9 columns]"
      ]
     },
     "execution_count": 25,
     "metadata": {},
     "output_type": "execute_result"
    }
   ],
   "source": [
    "routes_df"
   ]
  },
  {
   "cell_type": "code",
   "execution_count": 27,
   "id": "b026be04",
   "metadata": {},
   "outputs": [
    {
     "data": {
      "text/plain": [
       "{'1-2': 270000.0,\n",
       " '1-3': 70000.0,\n",
       " '2-1': 270000.0,\n",
       " '2-6': 70000.0,\n",
       " '3-1': 70000.0,\n",
       " '3-4': 80000.0,\n",
       " '3-12': 120000.0,\n",
       " '4-3': 80000.0,\n",
       " '4-5': 90000.0,\n",
       " '4-11': 120000.0,\n",
       " '5-4': 90000.0,\n",
       " '5-6': 100000.0,\n",
       " '5-9': 60000.0,\n",
       " '6-2': 70000.0,\n",
       " '6-5': 100000.0,\n",
       " '6-8': 60000.0,\n",
       " '7-8': 100000.0,\n",
       " '7-18': 60000.0,\n",
       " '8-6': 60000.0,\n",
       " '8-7': 100000.0,\n",
       " '8-9': 100000.0,\n",
       " '8-16': 60000.0,\n",
       " '9-5': 60000.0,\n",
       " '9-8': 100000.0,\n",
       " '9-10': 60000.0,\n",
       " '10-9': 60000.0,\n",
       " '10-11': 90000.0,\n",
       " '10-15': 130000.0,\n",
       " '10-16': 100000.0,\n",
       " '10-17': 116619.03789690601,\n",
       " '11-4': 120000.0,\n",
       " '11-10': 90000.0,\n",
       " '11-12': 80000.0,\n",
       " '11-14': 130000.0,\n",
       " '12-3': 120000.0,\n",
       " '12-11': 80000.0,\n",
       " '12-13': 270000.0,\n",
       " '13-12': 270000.0,\n",
       " '13-24': 80000.0,\n",
       " '14-11': 130000.0,\n",
       " '14-15': 90000.0,\n",
       " '14-23': 60000.0,\n",
       " '15-10': 130000.0,\n",
       " '15-14': 90000.0,\n",
       " '15-19': 100000.0,\n",
       " '15-22': 60000.0,\n",
       " '16-8': 60000.0,\n",
       " '16-10': 100000.0,\n",
       " '16-17': 60000.0,\n",
       " '16-18': 100000.0,\n",
       " '17-10': 116619.03789690601,\n",
       " '17-16': 60000.0,\n",
       " '17-19': 70000.0,\n",
       " '18-7': 60000.0,\n",
       " '18-16': 100000.0,\n",
       " '18-20': 287923.6009777594,\n",
       " '19-15': 100000.0,\n",
       " '19-17': 70000.0,\n",
       " '19-20': 140000.0,\n",
       " '20-18': 287923.6009777594,\n",
       " '20-19': 140000.0,\n",
       " '20-21': 100000.0,\n",
       " '20-22': 128062.48474865698,\n",
       " '21-20': 100000.0,\n",
       " '21-22': 80000.0,\n",
       " '21-24': 90000.0,\n",
       " '22-15': 60000.0,\n",
       " '22-20': 128062.48474865698,\n",
       " '22-21': 80000.0,\n",
       " '22-23': 90000.0,\n",
       " '23-14': 60000.0,\n",
       " '23-22': 90000.0,\n",
       " '23-24': 80000.0,\n",
       " '24-13': 80000.0,\n",
       " '24-21': 90000.0,\n",
       " '24-23': 80000.0}"
      ]
     },
     "execution_count": 27,
     "metadata": {},
     "output_type": "execute_result"
    }
   ],
   "source": [
    "distances"
   ]
  },
  {
   "cell_type": "code",
   "execution_count": null,
   "id": "08297331",
   "metadata": {},
   "outputs": [],
   "source": []
  }
 ],
 "metadata": {
  "kernelspec": {
   "display_name": "Python 3 (ipykernel)",
   "language": "python",
   "name": "python3"
  },
  "language_info": {
   "codemirror_mode": {
    "name": "ipython",
    "version": 3
   },
   "file_extension": ".py",
   "mimetype": "text/x-python",
   "name": "python",
   "nbconvert_exporter": "python",
   "pygments_lexer": "ipython3",
   "version": "3.10.3"
  }
 },
 "nbformat": 4,
 "nbformat_minor": 5
}
